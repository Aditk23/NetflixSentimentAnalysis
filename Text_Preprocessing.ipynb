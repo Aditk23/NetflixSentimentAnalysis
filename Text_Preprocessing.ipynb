{
 "cells": [
  {
   "cell_type": "code",
   "execution_count": 6,
   "id": "6d6b1e39",
   "metadata": {},
   "outputs": [],
   "source": [
    "# Importing essential libraries\n",
    "\n",
    "import numpy as np\n",
    "import pandas as pd\n",
    "import nltk\n",
    "import spacy\n",
    "import string\n",
    "from nltk.corpus import stopwords\n",
    "from sklearn.model_selection import train_test_split\n",
    "from sklearn.feature_extraction.text import TfidfVectorizer , CountVectorizer"
   ]
  },
  {
   "cell_type": "code",
   "execution_count": 2,
   "id": "53c34426",
   "metadata": {},
   "outputs": [],
   "source": [
    "# Loading dataset for postitve and negative review\n",
    "\n",
    "pos_review = pd.read_csv('pos.txt',encoding='latin-1',header=None,sep='\\n')\n",
    "pos_review['sentiment']=1\n",
    "pos_review.rename(columns={0:'review'},inplace=True)\n",
    "neg_review = pd.read_csv('negative.txt',encoding='latin-1',header=None,sep='\\n')\n",
    "neg_review['sentiment']=0\n",
    "neg_review.rename(columns={0:'review'},inplace=True)"
   ]
  },
  {
   "cell_type": "code",
   "execution_count": 3,
   "id": "bc2ef703",
   "metadata": {},
   "outputs": [
    {
     "data": {
      "text/html": [
       "<div>\n",
       "<style scoped>\n",
       "    .dataframe tbody tr th:only-of-type {\n",
       "        vertical-align: middle;\n",
       "    }\n",
       "\n",
       "    .dataframe tbody tr th {\n",
       "        vertical-align: top;\n",
       "    }\n",
       "\n",
       "    .dataframe thead th {\n",
       "        text-align: right;\n",
       "    }\n",
       "</style>\n",
       "<table border=\"1\" class=\"dataframe\">\n",
       "  <thead>\n",
       "    <tr style=\"text-align: right;\">\n",
       "      <th></th>\n",
       "      <th>review</th>\n",
       "      <th>sentiment</th>\n",
       "    </tr>\n",
       "  </thead>\n",
       "  <tbody>\n",
       "    <tr>\n",
       "      <th>0</th>\n",
       "      <td>the rock is destined to be the 21st century's ...</td>\n",
       "      <td>1</td>\n",
       "    </tr>\n",
       "    <tr>\n",
       "      <th>1</th>\n",
       "      <td>the gorgeously elaborate continuation of \" the...</td>\n",
       "      <td>1</td>\n",
       "    </tr>\n",
       "    <tr>\n",
       "      <th>2</th>\n",
       "      <td>effective but too-tepid biopic</td>\n",
       "      <td>1</td>\n",
       "    </tr>\n",
       "    <tr>\n",
       "      <th>3</th>\n",
       "      <td>if you sometimes like to go to the movies to h...</td>\n",
       "      <td>1</td>\n",
       "    </tr>\n",
       "    <tr>\n",
       "      <th>4</th>\n",
       "      <td>emerges as something rare , an issue movie tha...</td>\n",
       "      <td>1</td>\n",
       "    </tr>\n",
       "    <tr>\n",
       "      <th>...</th>\n",
       "      <td>...</td>\n",
       "      <td>...</td>\n",
       "    </tr>\n",
       "    <tr>\n",
       "      <th>5326</th>\n",
       "      <td>both exuberantly romantic and serenely melanch...</td>\n",
       "      <td>1</td>\n",
       "    </tr>\n",
       "    <tr>\n",
       "      <th>5327</th>\n",
       "      <td>mazel tov to a film about a family's joyous li...</td>\n",
       "      <td>1</td>\n",
       "    </tr>\n",
       "    <tr>\n",
       "      <th>5328</th>\n",
       "      <td>standing in the shadows of motown is the best ...</td>\n",
       "      <td>1</td>\n",
       "    </tr>\n",
       "    <tr>\n",
       "      <th>5329</th>\n",
       "      <td>it's nice to see piscopo again after all these...</td>\n",
       "      <td>1</td>\n",
       "    </tr>\n",
       "    <tr>\n",
       "      <th>5330</th>\n",
       "      <td>provides a porthole into that noble , tremblin...</td>\n",
       "      <td>1</td>\n",
       "    </tr>\n",
       "  </tbody>\n",
       "</table>\n",
       "<p>5331 rows × 2 columns</p>\n",
       "</div>"
      ],
      "text/plain": [
       "                                                 review  sentiment\n",
       "0     the rock is destined to be the 21st century's ...          1\n",
       "1     the gorgeously elaborate continuation of \" the...          1\n",
       "2                        effective but too-tepid biopic          1\n",
       "3     if you sometimes like to go to the movies to h...          1\n",
       "4     emerges as something rare , an issue movie tha...          1\n",
       "...                                                 ...        ...\n",
       "5326  both exuberantly romantic and serenely melanch...          1\n",
       "5327  mazel tov to a film about a family's joyous li...          1\n",
       "5328  standing in the shadows of motown is the best ...          1\n",
       "5329  it's nice to see piscopo again after all these...          1\n",
       "5330  provides a porthole into that noble , tremblin...          1\n",
       "\n",
       "[5331 rows x 2 columns]"
      ]
     },
     "execution_count": 3,
     "metadata": {},
     "output_type": "execute_result"
    }
   ],
   "source": [
    "pos_review"
   ]
  },
  {
   "cell_type": "code",
   "execution_count": 4,
   "id": "3249df5c",
   "metadata": {},
   "outputs": [
    {
     "data": {
      "text/html": [
       "<div>\n",
       "<style scoped>\n",
       "    .dataframe tbody tr th:only-of-type {\n",
       "        vertical-align: middle;\n",
       "    }\n",
       "\n",
       "    .dataframe tbody tr th {\n",
       "        vertical-align: top;\n",
       "    }\n",
       "\n",
       "    .dataframe thead th {\n",
       "        text-align: right;\n",
       "    }\n",
       "</style>\n",
       "<table border=\"1\" class=\"dataframe\">\n",
       "  <thead>\n",
       "    <tr style=\"text-align: right;\">\n",
       "      <th></th>\n",
       "      <th>review</th>\n",
       "      <th>sentiment</th>\n",
       "    </tr>\n",
       "  </thead>\n",
       "  <tbody>\n",
       "    <tr>\n",
       "      <th>0</th>\n",
       "      <td>simplistic , silly and tedious.</td>\n",
       "      <td>0</td>\n",
       "    </tr>\n",
       "    <tr>\n",
       "      <th>1</th>\n",
       "      <td>it's so laddish and juvenile , only teenage bo...</td>\n",
       "      <td>0</td>\n",
       "    </tr>\n",
       "    <tr>\n",
       "      <th>2</th>\n",
       "      <td>exploitative and largely devoid of the depth o...</td>\n",
       "      <td>0</td>\n",
       "    </tr>\n",
       "    <tr>\n",
       "      <th>3</th>\n",
       "      <td>[garbus] discards the potential for pathologic...</td>\n",
       "      <td>0</td>\n",
       "    </tr>\n",
       "    <tr>\n",
       "      <th>4</th>\n",
       "      <td>a visually flashy but narratively opaque and e...</td>\n",
       "      <td>0</td>\n",
       "    </tr>\n",
       "    <tr>\n",
       "      <th>...</th>\n",
       "      <td>...</td>\n",
       "      <td>...</td>\n",
       "    </tr>\n",
       "    <tr>\n",
       "      <th>5326</th>\n",
       "      <td>a terrible movie that some people will neverth...</td>\n",
       "      <td>0</td>\n",
       "    </tr>\n",
       "    <tr>\n",
       "      <th>5327</th>\n",
       "      <td>there are many definitions of 'time waster' bu...</td>\n",
       "      <td>0</td>\n",
       "    </tr>\n",
       "    <tr>\n",
       "      <th>5328</th>\n",
       "      <td>as it stands , crocodile hunter has the hurrie...</td>\n",
       "      <td>0</td>\n",
       "    </tr>\n",
       "    <tr>\n",
       "      <th>5329</th>\n",
       "      <td>the thing looks like a made-for-home-video qui...</td>\n",
       "      <td>0</td>\n",
       "    </tr>\n",
       "    <tr>\n",
       "      <th>5330</th>\n",
       "      <td>enigma is well-made , but it's just too dry an...</td>\n",
       "      <td>0</td>\n",
       "    </tr>\n",
       "  </tbody>\n",
       "</table>\n",
       "<p>5331 rows × 2 columns</p>\n",
       "</div>"
      ],
      "text/plain": [
       "                                                 review  sentiment\n",
       "0                      simplistic , silly and tedious.           0\n",
       "1     it's so laddish and juvenile , only teenage bo...          0\n",
       "2     exploitative and largely devoid of the depth o...          0\n",
       "3     [garbus] discards the potential for pathologic...          0\n",
       "4     a visually flashy but narratively opaque and e...          0\n",
       "...                                                 ...        ...\n",
       "5326  a terrible movie that some people will neverth...          0\n",
       "5327  there are many definitions of 'time waster' bu...          0\n",
       "5328  as it stands , crocodile hunter has the hurrie...          0\n",
       "5329  the thing looks like a made-for-home-video qui...          0\n",
       "5330  enigma is well-made , but it's just too dry an...          0\n",
       "\n",
       "[5331 rows x 2 columns]"
      ]
     },
     "execution_count": 4,
     "metadata": {},
     "output_type": "execute_result"
    }
   ],
   "source": [
    "neg_review"
   ]
  },
  {
   "cell_type": "code",
   "execution_count": 11,
   "id": "77bedebd",
   "metadata": {},
   "outputs": [
    {
     "data": {
      "text/html": [
       "<div>\n",
       "<style scoped>\n",
       "    .dataframe tbody tr th:only-of-type {\n",
       "        vertical-align: middle;\n",
       "    }\n",
       "\n",
       "    .dataframe tbody tr th {\n",
       "        vertical-align: top;\n",
       "    }\n",
       "\n",
       "    .dataframe thead th {\n",
       "        text-align: right;\n",
       "    }\n",
       "</style>\n",
       "<table border=\"1\" class=\"dataframe\">\n",
       "  <thead>\n",
       "    <tr style=\"text-align: right;\">\n",
       "      <th></th>\n",
       "      <th>review</th>\n",
       "      <th>sentiment</th>\n",
       "    </tr>\n",
       "  </thead>\n",
       "  <tbody>\n",
       "    <tr>\n",
       "      <th>0</th>\n",
       "      <td>the rock is destined to be the 21st century's ...</td>\n",
       "      <td>1</td>\n",
       "    </tr>\n",
       "    <tr>\n",
       "      <th>1</th>\n",
       "      <td>the gorgeously elaborate continuation of \" the...</td>\n",
       "      <td>1</td>\n",
       "    </tr>\n",
       "    <tr>\n",
       "      <th>2</th>\n",
       "      <td>effective but too-tepid biopic</td>\n",
       "      <td>1</td>\n",
       "    </tr>\n",
       "    <tr>\n",
       "      <th>3</th>\n",
       "      <td>if you sometimes like to go to the movies to h...</td>\n",
       "      <td>1</td>\n",
       "    </tr>\n",
       "    <tr>\n",
       "      <th>4</th>\n",
       "      <td>emerges as something rare , an issue movie tha...</td>\n",
       "      <td>1</td>\n",
       "    </tr>\n",
       "  </tbody>\n",
       "</table>\n",
       "</div>"
      ],
      "text/plain": [
       "                                              review  sentiment\n",
       "0  the rock is destined to be the 21st century's ...          1\n",
       "1  the gorgeously elaborate continuation of \" the...          1\n",
       "2                     effective but too-tepid biopic          1\n",
       "3  if you sometimes like to go to the movies to h...          1\n",
       "4  emerges as something rare , an issue movie tha...          1"
      ]
     },
     "execution_count": 11,
     "metadata": {},
     "output_type": "execute_result"
    }
   ],
   "source": [
    "all_data = pd.concat([pos_review,neg_review],axis=0,ignore_index=True)\n",
    "all_data.head()"
   ]
  },
  {
   "cell_type": "code",
   "execution_count": 12,
   "id": "196b246f",
   "metadata": {},
   "outputs": [
    {
     "data": {
      "text/html": [
       "<div>\n",
       "<style scoped>\n",
       "    .dataframe tbody tr th:only-of-type {\n",
       "        vertical-align: middle;\n",
       "    }\n",
       "\n",
       "    .dataframe tbody tr th {\n",
       "        vertical-align: top;\n",
       "    }\n",
       "\n",
       "    .dataframe thead th {\n",
       "        text-align: right;\n",
       "    }\n",
       "</style>\n",
       "<table border=\"1\" class=\"dataframe\">\n",
       "  <thead>\n",
       "    <tr style=\"text-align: right;\">\n",
       "      <th></th>\n",
       "      <th>review</th>\n",
       "      <th>sentiment</th>\n",
       "    </tr>\n",
       "  </thead>\n",
       "  <tbody>\n",
       "    <tr>\n",
       "      <th>10657</th>\n",
       "      <td>a terrible movie that some people will neverth...</td>\n",
       "      <td>0</td>\n",
       "    </tr>\n",
       "    <tr>\n",
       "      <th>10658</th>\n",
       "      <td>there are many definitions of 'time waster' bu...</td>\n",
       "      <td>0</td>\n",
       "    </tr>\n",
       "    <tr>\n",
       "      <th>10659</th>\n",
       "      <td>as it stands , crocodile hunter has the hurrie...</td>\n",
       "      <td>0</td>\n",
       "    </tr>\n",
       "    <tr>\n",
       "      <th>10660</th>\n",
       "      <td>the thing looks like a made-for-home-video qui...</td>\n",
       "      <td>0</td>\n",
       "    </tr>\n",
       "    <tr>\n",
       "      <th>10661</th>\n",
       "      <td>enigma is well-made , but it's just too dry an...</td>\n",
       "      <td>0</td>\n",
       "    </tr>\n",
       "  </tbody>\n",
       "</table>\n",
       "</div>"
      ],
      "text/plain": [
       "                                                  review  sentiment\n",
       "10657  a terrible movie that some people will neverth...          0\n",
       "10658  there are many definitions of 'time waster' bu...          0\n",
       "10659  as it stands , crocodile hunter has the hurrie...          0\n",
       "10660  the thing looks like a made-for-home-video qui...          0\n",
       "10661  enigma is well-made , but it's just too dry an...          0"
      ]
     },
     "execution_count": 12,
     "metadata": {},
     "output_type": "execute_result"
    }
   ],
   "source": [
    "all_data.tail()"
   ]
  },
  {
   "cell_type": "code",
   "execution_count": 13,
   "id": "bd1a5c31",
   "metadata": {},
   "outputs": [
    {
     "data": {
      "text/html": [
       "<div>\n",
       "<style scoped>\n",
       "    .dataframe tbody tr th:only-of-type {\n",
       "        vertical-align: middle;\n",
       "    }\n",
       "\n",
       "    .dataframe tbody tr th {\n",
       "        vertical-align: top;\n",
       "    }\n",
       "\n",
       "    .dataframe thead th {\n",
       "        text-align: right;\n",
       "    }\n",
       "</style>\n",
       "<table border=\"1\" class=\"dataframe\">\n",
       "  <thead>\n",
       "    <tr style=\"text-align: right;\">\n",
       "      <th></th>\n",
       "      <th>review</th>\n",
       "    </tr>\n",
       "  </thead>\n",
       "  <tbody>\n",
       "    <tr>\n",
       "      <th>0</th>\n",
       "      <td>the rock is destined to be the 21st century's ...</td>\n",
       "    </tr>\n",
       "    <tr>\n",
       "      <th>1</th>\n",
       "      <td>the gorgeously elaborate continuation of \" the...</td>\n",
       "    </tr>\n",
       "    <tr>\n",
       "      <th>2</th>\n",
       "      <td>effective but too-tepid biopic</td>\n",
       "    </tr>\n",
       "    <tr>\n",
       "      <th>3</th>\n",
       "      <td>if you sometimes like to go to the movies to h...</td>\n",
       "    </tr>\n",
       "    <tr>\n",
       "      <th>4</th>\n",
       "      <td>emerges as something rare , an issue movie tha...</td>\n",
       "    </tr>\n",
       "  </tbody>\n",
       "</table>\n",
       "</div>"
      ],
      "text/plain": [
       "                                              review\n",
       "0  the rock is destined to be the 21st century's ...\n",
       "1  the gorgeously elaborate continuation of \" the...\n",
       "2                     effective but too-tepid biopic\n",
       "3  if you sometimes like to go to the movies to h...\n",
       "4  emerges as something rare , an issue movie tha..."
      ]
     },
     "execution_count": 13,
     "metadata": {},
     "output_type": "execute_result"
    }
   ],
   "source": [
    "df = all_data[['review']]\n",
    "df.head()"
   ]
  },
  {
   "cell_type": "markdown",
   "id": "983e3437",
   "metadata": {},
   "source": [
    "# Text Preprocessing"
   ]
  },
  {
   "cell_type": "markdown",
   "id": "834cbd67",
   "metadata": {},
   "source": [
    "### Converting text to lower case"
   ]
  },
  {
   "cell_type": "code",
   "execution_count": 15,
   "id": "a0e5412b",
   "metadata": {},
   "outputs": [
    {
     "data": {
      "text/html": [
       "<div>\n",
       "<style scoped>\n",
       "    .dataframe tbody tr th:only-of-type {\n",
       "        vertical-align: middle;\n",
       "    }\n",
       "\n",
       "    .dataframe tbody tr th {\n",
       "        vertical-align: top;\n",
       "    }\n",
       "\n",
       "    .dataframe thead th {\n",
       "        text-align: right;\n",
       "    }\n",
       "</style>\n",
       "<table border=\"1\" class=\"dataframe\">\n",
       "  <thead>\n",
       "    <tr style=\"text-align: right;\">\n",
       "      <th></th>\n",
       "      <th>review</th>\n",
       "      <th>text_lower</th>\n",
       "    </tr>\n",
       "  </thead>\n",
       "  <tbody>\n",
       "    <tr>\n",
       "      <th>0</th>\n",
       "      <td>the rock is destined to be the 21st century's ...</td>\n",
       "      <td>the rock is destined to be the 21st century's ...</td>\n",
       "    </tr>\n",
       "    <tr>\n",
       "      <th>1</th>\n",
       "      <td>the gorgeously elaborate continuation of \" the...</td>\n",
       "      <td>the gorgeously elaborate continuation of \" the...</td>\n",
       "    </tr>\n",
       "    <tr>\n",
       "      <th>2</th>\n",
       "      <td>effective but too-tepid biopic</td>\n",
       "      <td>effective but too-tepid biopic</td>\n",
       "    </tr>\n",
       "    <tr>\n",
       "      <th>3</th>\n",
       "      <td>if you sometimes like to go to the movies to h...</td>\n",
       "      <td>if you sometimes like to go to the movies to h...</td>\n",
       "    </tr>\n",
       "    <tr>\n",
       "      <th>4</th>\n",
       "      <td>emerges as something rare , an issue movie tha...</td>\n",
       "      <td>emerges as something rare , an issue movie tha...</td>\n",
       "    </tr>\n",
       "  </tbody>\n",
       "</table>\n",
       "</div>"
      ],
      "text/plain": [
       "                                              review  \\\n",
       "0  the rock is destined to be the 21st century's ...   \n",
       "1  the gorgeously elaborate continuation of \" the...   \n",
       "2                     effective but too-tepid biopic   \n",
       "3  if you sometimes like to go to the movies to h...   \n",
       "4  emerges as something rare , an issue movie tha...   \n",
       "\n",
       "                                          text_lower  \n",
       "0  the rock is destined to be the 21st century's ...  \n",
       "1  the gorgeously elaborate continuation of \" the...  \n",
       "2                     effective but too-tepid biopic  \n",
       "3  if you sometimes like to go to the movies to h...  \n",
       "4  emerges as something rare , an issue movie tha...  "
      ]
     },
     "execution_count": 15,
     "metadata": {},
     "output_type": "execute_result"
    }
   ],
   "source": [
    "df[\"text_lower\"] = df[\"review\"].str.lower()\n",
    "df.head()"
   ]
  },
  {
   "cell_type": "markdown",
   "id": "161228e3",
   "metadata": {},
   "source": [
    "### Removing Stopwords"
   ]
  },
  {
   "cell_type": "code",
   "execution_count": 16,
   "id": "7fb1cc37",
   "metadata": {},
   "outputs": [
    {
     "name": "stderr",
     "output_type": "stream",
     "text": [
      "[nltk_data] Downloading package stopwords to /Users/Adit/nltk_data...\n",
      "[nltk_data]   Package stopwords is already up-to-date!\n"
     ]
    },
    {
     "data": {
      "text/plain": [
       "True"
      ]
     },
     "execution_count": 16,
     "metadata": {},
     "output_type": "execute_result"
    }
   ],
   "source": [
    "nltk.download('stopwords')"
   ]
  },
  {
   "cell_type": "code",
   "execution_count": 17,
   "id": "0d9bd127",
   "metadata": {},
   "outputs": [
    {
     "data": {
      "text/plain": [
       "\"i, me, my, myself, we, our, ours, ourselves, you, you're, you've, you'll, you'd, your, yours, yourself, yourselves, he, him, his, himself, she, she's, her, hers, herself, it, it's, its, itself, they, them, their, theirs, themselves, what, which, who, whom, this, that, that'll, these, those, am, is, are, was, were, be, been, being, have, has, had, having, do, does, did, doing, a, an, the, and, but, if, or, because, as, until, while, of, at, by, for, with, about, against, between, into, through, during, before, after, above, below, to, from, up, down, in, out, on, off, over, under, again, further, then, once, here, there, when, where, why, how, all, any, both, each, few, more, most, other, some, such, no, nor, not, only, own, same, so, than, too, very, s, t, can, will, just, don, don't, should, should've, now, d, ll, m, o, re, ve, y, ain, aren, aren't, couldn, couldn't, didn, didn't, doesn, doesn't, hadn, hadn't, hasn, hasn't, haven, haven't, isn, isn't, ma, mightn, mightn't, mustn, mustn't, needn, needn't, shan, shan't, shouldn, shouldn't, wasn, wasn't, weren, weren't, won, won't, wouldn, wouldn't\""
      ]
     },
     "execution_count": 17,
     "metadata": {},
     "output_type": "execute_result"
    }
   ],
   "source": [
    "# all stopwords in nltk library\n",
    "from nltk.corpus import stopwords\n",
    "\", \".join(stopwords.words('english'))"
   ]
  },
  {
   "cell_type": "code",
   "execution_count": 18,
   "id": "2e4438a1",
   "metadata": {},
   "outputs": [
    {
     "data": {
      "text/html": [
       "<div>\n",
       "<style scoped>\n",
       "    .dataframe tbody tr th:only-of-type {\n",
       "        vertical-align: middle;\n",
       "    }\n",
       "\n",
       "    .dataframe tbody tr th {\n",
       "        vertical-align: top;\n",
       "    }\n",
       "\n",
       "    .dataframe thead th {\n",
       "        text-align: right;\n",
       "    }\n",
       "</style>\n",
       "<table border=\"1\" class=\"dataframe\">\n",
       "  <thead>\n",
       "    <tr style=\"text-align: right;\">\n",
       "      <th></th>\n",
       "      <th>review</th>\n",
       "      <th>text_lower</th>\n",
       "      <th>text_wo_stop</th>\n",
       "    </tr>\n",
       "  </thead>\n",
       "  <tbody>\n",
       "    <tr>\n",
       "      <th>0</th>\n",
       "      <td>the rock is destined to be the 21st century's ...</td>\n",
       "      <td>the rock is destined to be the 21st century's ...</td>\n",
       "      <td>rock destined 21st century's new \" conan \" he'...</td>\n",
       "    </tr>\n",
       "    <tr>\n",
       "      <th>1</th>\n",
       "      <td>the gorgeously elaborate continuation of \" the...</td>\n",
       "      <td>the gorgeously elaborate continuation of \" the...</td>\n",
       "      <td>gorgeously elaborate continuation \" lord rings...</td>\n",
       "    </tr>\n",
       "    <tr>\n",
       "      <th>2</th>\n",
       "      <td>effective but too-tepid biopic</td>\n",
       "      <td>effective but too-tepid biopic</td>\n",
       "      <td>effective too-tepid biopic</td>\n",
       "    </tr>\n",
       "    <tr>\n",
       "      <th>3</th>\n",
       "      <td>if you sometimes like to go to the movies to h...</td>\n",
       "      <td>if you sometimes like to go to the movies to h...</td>\n",
       "      <td>sometimes like go movies fun , wasabi good pla...</td>\n",
       "    </tr>\n",
       "    <tr>\n",
       "      <th>4</th>\n",
       "      <td>emerges as something rare , an issue movie tha...</td>\n",
       "      <td>emerges as something rare , an issue movie tha...</td>\n",
       "      <td>emerges something rare , issue movie that's ho...</td>\n",
       "    </tr>\n",
       "  </tbody>\n",
       "</table>\n",
       "</div>"
      ],
      "text/plain": [
       "                                              review  \\\n",
       "0  the rock is destined to be the 21st century's ...   \n",
       "1  the gorgeously elaborate continuation of \" the...   \n",
       "2                     effective but too-tepid biopic   \n",
       "3  if you sometimes like to go to the movies to h...   \n",
       "4  emerges as something rare , an issue movie tha...   \n",
       "\n",
       "                                          text_lower  \\\n",
       "0  the rock is destined to be the 21st century's ...   \n",
       "1  the gorgeously elaborate continuation of \" the...   \n",
       "2                     effective but too-tepid biopic   \n",
       "3  if you sometimes like to go to the movies to h...   \n",
       "4  emerges as something rare , an issue movie tha...   \n",
       "\n",
       "                                        text_wo_stop  \n",
       "0  rock destined 21st century's new \" conan \" he'...  \n",
       "1  gorgeously elaborate continuation \" lord rings...  \n",
       "2                         effective too-tepid biopic  \n",
       "3  sometimes like go movies fun , wasabi good pla...  \n",
       "4  emerges something rare , issue movie that's ho...  "
      ]
     },
     "execution_count": 18,
     "metadata": {},
     "output_type": "execute_result"
    }
   ],
   "source": [
    "STOPWORDS = set(stopwords.words('english'))\n",
    "def remove_stopwords(text):\n",
    "    \"\"\"function to remove the stopwords\"\"\"\n",
    "    return \" \".join([word for word in str(text).split() if word not in STOPWORDS])\n",
    "\n",
    "df[\"text_wo_stop\"] = df[\"text_lower\"].apply(lambda text: remove_stopwords(text))\n",
    "df.head()"
   ]
  },
  {
   "cell_type": "markdown",
   "id": "fb4cdcaf",
   "metadata": {},
   "source": [
    "### Remove Punctuations"
   ]
  },
  {
   "cell_type": "code",
   "execution_count": 19,
   "id": "b54a0fce",
   "metadata": {},
   "outputs": [
    {
     "name": "stdout",
     "output_type": "stream",
     "text": [
      "!\"#$%&'()*+,-./:;<=>?@[\\]^_`{|}~\n"
     ]
    }
   ],
   "source": [
    "PUNCT_TO_REMOVE = string.punctuation\n",
    "print (PUNCT_TO_REMOVE)"
   ]
  },
  {
   "cell_type": "code",
   "execution_count": 20,
   "id": "f8d45864",
   "metadata": {},
   "outputs": [
    {
     "data": {
      "text/html": [
       "<div>\n",
       "<style scoped>\n",
       "    .dataframe tbody tr th:only-of-type {\n",
       "        vertical-align: middle;\n",
       "    }\n",
       "\n",
       "    .dataframe tbody tr th {\n",
       "        vertical-align: top;\n",
       "    }\n",
       "\n",
       "    .dataframe thead th {\n",
       "        text-align: right;\n",
       "    }\n",
       "</style>\n",
       "<table border=\"1\" class=\"dataframe\">\n",
       "  <thead>\n",
       "    <tr style=\"text-align: right;\">\n",
       "      <th></th>\n",
       "      <th>review</th>\n",
       "      <th>text_lower</th>\n",
       "      <th>text_wo_stop</th>\n",
       "      <th>text_wo_punct</th>\n",
       "    </tr>\n",
       "  </thead>\n",
       "  <tbody>\n",
       "    <tr>\n",
       "      <th>0</th>\n",
       "      <td>the rock is destined to be the 21st century's ...</td>\n",
       "      <td>the rock is destined to be the 21st century's ...</td>\n",
       "      <td>rock destined 21st century's new \" conan \" he'...</td>\n",
       "      <td>rock destined 21st centurys new  conan  hes go...</td>\n",
       "    </tr>\n",
       "    <tr>\n",
       "      <th>1</th>\n",
       "      <td>the gorgeously elaborate continuation of \" the...</td>\n",
       "      <td>the gorgeously elaborate continuation of \" the...</td>\n",
       "      <td>gorgeously elaborate continuation \" lord rings...</td>\n",
       "      <td>gorgeously elaborate continuation  lord rings ...</td>\n",
       "    </tr>\n",
       "    <tr>\n",
       "      <th>2</th>\n",
       "      <td>effective but too-tepid biopic</td>\n",
       "      <td>effective but too-tepid biopic</td>\n",
       "      <td>effective too-tepid biopic</td>\n",
       "      <td>effective tootepid biopic</td>\n",
       "    </tr>\n",
       "    <tr>\n",
       "      <th>3</th>\n",
       "      <td>if you sometimes like to go to the movies to h...</td>\n",
       "      <td>if you sometimes like to go to the movies to h...</td>\n",
       "      <td>sometimes like go movies fun , wasabi good pla...</td>\n",
       "      <td>sometimes like go movies fun  wasabi good plac...</td>\n",
       "    </tr>\n",
       "    <tr>\n",
       "      <th>4</th>\n",
       "      <td>emerges as something rare , an issue movie tha...</td>\n",
       "      <td>emerges as something rare , an issue movie tha...</td>\n",
       "      <td>emerges something rare , issue movie that's ho...</td>\n",
       "      <td>emerges something rare  issue movie thats hone...</td>\n",
       "    </tr>\n",
       "  </tbody>\n",
       "</table>\n",
       "</div>"
      ],
      "text/plain": [
       "                                              review  \\\n",
       "0  the rock is destined to be the 21st century's ...   \n",
       "1  the gorgeously elaborate continuation of \" the...   \n",
       "2                     effective but too-tepid biopic   \n",
       "3  if you sometimes like to go to the movies to h...   \n",
       "4  emerges as something rare , an issue movie tha...   \n",
       "\n",
       "                                          text_lower  \\\n",
       "0  the rock is destined to be the 21st century's ...   \n",
       "1  the gorgeously elaborate continuation of \" the...   \n",
       "2                     effective but too-tepid biopic   \n",
       "3  if you sometimes like to go to the movies to h...   \n",
       "4  emerges as something rare , an issue movie tha...   \n",
       "\n",
       "                                        text_wo_stop  \\\n",
       "0  rock destined 21st century's new \" conan \" he'...   \n",
       "1  gorgeously elaborate continuation \" lord rings...   \n",
       "2                         effective too-tepid biopic   \n",
       "3  sometimes like go movies fun , wasabi good pla...   \n",
       "4  emerges something rare , issue movie that's ho...   \n",
       "\n",
       "                                       text_wo_punct  \n",
       "0  rock destined 21st centurys new  conan  hes go...  \n",
       "1  gorgeously elaborate continuation  lord rings ...  \n",
       "2                          effective tootepid biopic  \n",
       "3  sometimes like go movies fun  wasabi good plac...  \n",
       "4  emerges something rare  issue movie thats hone...  "
      ]
     },
     "execution_count": 20,
     "metadata": {},
     "output_type": "execute_result"
    }
   ],
   "source": [
    "def remove_punctuation(text):\n",
    "    \"\"\"custom function to remove the punctuation\"\"\"\n",
    "    return text.translate(str.maketrans('', '', PUNCT_TO_REMOVE))\n",
    "\n",
    "df[\"text_wo_punct\"] = df[\"text_wo_stop\"].apply(lambda text: remove_punctuation(text))\n",
    "df.head()"
   ]
  },
  {
   "cell_type": "markdown",
   "id": "44f2ee66",
   "metadata": {},
   "source": [
    "### Removing rare words"
   ]
  },
  {
   "cell_type": "code",
   "execution_count": 21,
   "id": "f8cd969b",
   "metadata": {},
   "outputs": [
    {
     "data": {
      "text/plain": [
       "[('film', 1453),\n",
       " ('movie', 1270),\n",
       " ('one', 727),\n",
       " ('like', 721),\n",
       " ('story', 477),\n",
       " ('much', 386),\n",
       " ('even', 382),\n",
       " ('good', 377),\n",
       " ('comedy', 359),\n",
       " ('time', 341)]"
      ]
     },
     "execution_count": 21,
     "metadata": {},
     "output_type": "execute_result"
    }
   ],
   "source": [
    "from collections import Counter\n",
    "cnt = Counter()\n",
    "for text in df[\"text_wo_punct\"].values:\n",
    "    for word in text.split():\n",
    "        cnt[word] += 1\n",
    "# Printing 10 most common words        \n",
    "cnt.most_common(10)\n",
    "\n",
    "# Some of these words such as like,good are essential for sentiment analysis hence not removing them"
   ]
  },
  {
   "cell_type": "code",
   "execution_count": 25,
   "id": "77d89aac",
   "metadata": {},
   "outputs": [
    {
     "name": "stdout",
     "output_type": "stream",
     "text": [
      "{'definitions', 'shouting', 'hurried', 'roller', 'rodan', 'coaster', 'dozing', 'pamelas', 'juliet', 'agile', 'startled', 'stevenons', 'madeforhomevideo', 'commenting', 'chore', 'waster', '1959', 'uncertainty', 'principle', 'discount'}\n"
     ]
    }
   ],
   "source": [
    "# Printing 20 most rare words\n",
    "n_rare_words = 20\n",
    "RAREWORDS = set([w for (w, wc) in cnt.most_common()[:-n_rare_words-1:-1]])\n",
    "print(RAREWORDS)"
   ]
  },
  {
   "cell_type": "code",
   "execution_count": 26,
   "id": "b1b5c991",
   "metadata": {},
   "outputs": [
    {
     "data": {
      "text/html": [
       "<div>\n",
       "<style scoped>\n",
       "    .dataframe tbody tr th:only-of-type {\n",
       "        vertical-align: middle;\n",
       "    }\n",
       "\n",
       "    .dataframe tbody tr th {\n",
       "        vertical-align: top;\n",
       "    }\n",
       "\n",
       "    .dataframe thead th {\n",
       "        text-align: right;\n",
       "    }\n",
       "</style>\n",
       "<table border=\"1\" class=\"dataframe\">\n",
       "  <thead>\n",
       "    <tr style=\"text-align: right;\">\n",
       "      <th></th>\n",
       "      <th>review</th>\n",
       "      <th>text_lower</th>\n",
       "      <th>text_wo_stop</th>\n",
       "      <th>text_wo_punct</th>\n",
       "      <th>text_wo_stopfreqrare</th>\n",
       "    </tr>\n",
       "  </thead>\n",
       "  <tbody>\n",
       "    <tr>\n",
       "      <th>0</th>\n",
       "      <td>the rock is destined to be the 21st century's ...</td>\n",
       "      <td>the rock is destined to be the 21st century's ...</td>\n",
       "      <td>rock destined 21st century's new \" conan \" he'...</td>\n",
       "      <td>rock destined 21st centurys new  conan  hes go...</td>\n",
       "      <td>rock destined 21st centurys new conan hes goin...</td>\n",
       "    </tr>\n",
       "    <tr>\n",
       "      <th>1</th>\n",
       "      <td>the gorgeously elaborate continuation of \" the...</td>\n",
       "      <td>the gorgeously elaborate continuation of \" the...</td>\n",
       "      <td>gorgeously elaborate continuation \" lord rings...</td>\n",
       "      <td>gorgeously elaborate continuation  lord rings ...</td>\n",
       "      <td>gorgeously elaborate continuation lord rings t...</td>\n",
       "    </tr>\n",
       "    <tr>\n",
       "      <th>2</th>\n",
       "      <td>effective but too-tepid biopic</td>\n",
       "      <td>effective but too-tepid biopic</td>\n",
       "      <td>effective too-tepid biopic</td>\n",
       "      <td>effective tootepid biopic</td>\n",
       "      <td>effective tootepid biopic</td>\n",
       "    </tr>\n",
       "    <tr>\n",
       "      <th>3</th>\n",
       "      <td>if you sometimes like to go to the movies to h...</td>\n",
       "      <td>if you sometimes like to go to the movies to h...</td>\n",
       "      <td>sometimes like go movies fun , wasabi good pla...</td>\n",
       "      <td>sometimes like go movies fun  wasabi good plac...</td>\n",
       "      <td>sometimes like go movies fun wasabi good place...</td>\n",
       "    </tr>\n",
       "    <tr>\n",
       "      <th>4</th>\n",
       "      <td>emerges as something rare , an issue movie tha...</td>\n",
       "      <td>emerges as something rare , an issue movie tha...</td>\n",
       "      <td>emerges something rare , issue movie that's ho...</td>\n",
       "      <td>emerges something rare  issue movie thats hone...</td>\n",
       "      <td>emerges something rare issue movie thats hones...</td>\n",
       "    </tr>\n",
       "  </tbody>\n",
       "</table>\n",
       "</div>"
      ],
      "text/plain": [
       "                                              review  \\\n",
       "0  the rock is destined to be the 21st century's ...   \n",
       "1  the gorgeously elaborate continuation of \" the...   \n",
       "2                     effective but too-tepid biopic   \n",
       "3  if you sometimes like to go to the movies to h...   \n",
       "4  emerges as something rare , an issue movie tha...   \n",
       "\n",
       "                                          text_lower  \\\n",
       "0  the rock is destined to be the 21st century's ...   \n",
       "1  the gorgeously elaborate continuation of \" the...   \n",
       "2                     effective but too-tepid biopic   \n",
       "3  if you sometimes like to go to the movies to h...   \n",
       "4  emerges as something rare , an issue movie tha...   \n",
       "\n",
       "                                        text_wo_stop  \\\n",
       "0  rock destined 21st century's new \" conan \" he'...   \n",
       "1  gorgeously elaborate continuation \" lord rings...   \n",
       "2                         effective too-tepid biopic   \n",
       "3  sometimes like go movies fun , wasabi good pla...   \n",
       "4  emerges something rare , issue movie that's ho...   \n",
       "\n",
       "                                       text_wo_punct  \\\n",
       "0  rock destined 21st centurys new  conan  hes go...   \n",
       "1  gorgeously elaborate continuation  lord rings ...   \n",
       "2                          effective tootepid biopic   \n",
       "3  sometimes like go movies fun  wasabi good plac...   \n",
       "4  emerges something rare  issue movie thats hone...   \n",
       "\n",
       "                                text_wo_stopfreqrare  \n",
       "0  rock destined 21st centurys new conan hes goin...  \n",
       "1  gorgeously elaborate continuation lord rings t...  \n",
       "2                          effective tootepid biopic  \n",
       "3  sometimes like go movies fun wasabi good place...  \n",
       "4  emerges something rare issue movie thats hones...  "
      ]
     },
     "execution_count": 26,
     "metadata": {},
     "output_type": "execute_result"
    }
   ],
   "source": [
    "def remove_rarewords(text):\n",
    "    \"\"\"custom function to remove the rare words\"\"\"\n",
    "    return \" \".join([word for word in str(text).split() if word not in RAREWORDS])\n",
    "\n",
    "df[\"text_wo_stopfreqrare\"] = df[\"text_wo_punct\"].apply(lambda text: remove_rarewords(text))\n",
    "df.head()"
   ]
  },
  {
   "cell_type": "code",
   "execution_count": null,
   "id": "31c954f2",
   "metadata": {},
   "outputs": [],
   "source": []
  }
 ],
 "metadata": {
  "kernelspec": {
   "display_name": "Python 3",
   "language": "python",
   "name": "python3"
  },
  "language_info": {
   "codemirror_mode": {
    "name": "ipython",
    "version": 3
   },
   "file_extension": ".py",
   "mimetype": "text/x-python",
   "name": "python",
   "nbconvert_exporter": "python",
   "pygments_lexer": "ipython3",
   "version": "3.8.8"
  }
 },
 "nbformat": 4,
 "nbformat_minor": 5
}
